{
 "cells": [
  {
   "cell_type": "code",
   "execution_count": null,
   "metadata": {
    "collapsed": false
   },
   "outputs": [],
   "source": [
    "import tweepy\n",
    "from tweepy import OAuthHandler,Stream"
   ]
  },
  {
   "cell_type": "code",
   "execution_count": null,
   "metadata": {
    "collapsed": false
   },
   "outputs": [],
   "source": [
    "from tweepy.streaming import StreamListener\n",
    "import socket\n",
    "import json"
   ]
  },
  {
   "cell_type": "code",
   "execution_count": null,
   "metadata": {
    "collapsed": true
   },
   "outputs": [],
   "source": [
    "consumer_key = '5jAtQyc9cVlvUCXnic4Obe9H1'\n",
    "consumer_secret = 'KA16WifhCrcsjgZRwMAfEG7Ifmu003C3yDFxXwgom9Zbun3vaw'\n",
    "access_token = '1208990024642912256-1Vy7wWC96SGgTuwj3f88e3u0gX5O7b'\n",
    "access_secret = 'lc1yCpveKd3X6150XpXkYxF38w5fr1vGOoJqRUsDgqF0X'"
   ]
  },
  {
   "cell_type": "code",
   "execution_count": null,
   "metadata": {
    "collapsed": true
   },
   "outputs": [],
   "source": [
    "class TweetListener(StreamListener):\n",
    "    def __init__(self,csocket):\n",
    "        self.client_socket = csocket\n",
    "    \n",
    "    def on_data(self,data):\n",
    "        \n",
    "        try:\n",
    "            msg = json.loads(data)\n",
    "            print(msg['text'].encode('utf-8'))\n",
    "            self.client_socket.send(msg['text'].encode('utf-8'))\n",
    "            return True\n",
    "        except BaseException as e:\n",
    "            print(\"ERROR \", e)\n",
    "        return True\n",
    "    \n",
    "    def on_error(self,status):\n",
    "        print(status)\n",
    "        return True"
   ]
  },
  {
   "cell_type": "code",
   "execution_count": null,
   "metadata": {
    "collapsed": true
   },
   "outputs": [],
   "source": [
    "def sendData(c_socket, hash_tag_list):\n",
    "    auth = OAuthHandler(consumer_key,consumer_secret)\n",
    "    auth.set_access_token(access_token,access_secret)\n",
    "    \n",
    "    twitter_stream = Stream(auth,TweetListener(c_socket))\n",
    "    twitter_stream.filter(track=hash_tag_list)"
   ]
  },
  {
   "cell_type": "code",
   "execution_count": null,
   "metadata": {
    "collapsed": false
   },
   "outputs": [],
   "source": [
    "if __name__ == '__main__':\n",
    "    s = socket.socket()\n",
    "    host = '127.0.0.1'\n",
    "    port = 9998\n",
    "    s.bind((host,port))\n",
    "    \n",
    "    print('listening on port 9998')\n",
    "    \n",
    "    s.listen(5)\n",
    "    c,addr = s.accept()\n",
    "    hash_tag_list = [\"dota\",\"cat\",\"dog\"]\n",
    "    sendData(c,hash_tag_list)"
   ]
  },
  {
   "cell_type": "code",
   "execution_count": null,
   "metadata": {
    "collapsed": true
   },
   "outputs": [],
   "source": []
  }
 ],
 "metadata": {
  "anaconda-cloud": {},
  "kernelspec": {
   "display_name": "Python [Root]",
   "language": "python",
   "name": "Python [Root]"
  },
  "language_info": {
   "codemirror_mode": {
    "name": "ipython",
    "version": 3
   },
   "file_extension": ".py",
   "mimetype": "text/x-python",
   "name": "python",
   "nbconvert_exporter": "python",
   "pygments_lexer": "ipython3",
   "version": "3.5.2"
  }
 },
 "nbformat": 4,
 "nbformat_minor": 0
}
