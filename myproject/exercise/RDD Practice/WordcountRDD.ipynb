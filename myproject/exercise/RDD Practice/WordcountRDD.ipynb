{
 "cells": [
  {
   "cell_type": "code",
   "execution_count": 1,
   "metadata": {
    "collapsed": true
   },
   "outputs": [],
   "source": [
    "import findspark\n",
    "findspark.init('/home/ubuntu/spark-2.0.0-bin-hadoop2.7')"
   ]
  },
  {
   "cell_type": "code",
   "execution_count": 2,
   "metadata": {
    "collapsed": true
   },
   "outputs": [],
   "source": [
    "from pyspark import SparkContext"
   ]
  },
  {
   "cell_type": "code",
   "execution_count": 3,
   "metadata": {
    "collapsed": true
   },
   "outputs": [],
   "source": [
    "sc = SparkContext(appName=\"WordCount\")"
   ]
  },
  {
   "cell_type": "code",
   "execution_count": 11,
   "metadata": {
    "collapsed": false
   },
   "outputs": [],
   "source": [
    "book = sc.textFile('book.txt')"
   ]
  },
  {
   "cell_type": "code",
   "execution_count": 25,
   "metadata": {
    "collapsed": false
   },
   "outputs": [
    {
     "data": {
      "text/plain": [
       "['Self-Employment: Building an Internet Business of One',\n",
       " 'Achieving Financial and Personal Freedom through a Lifestyle Technology Business',\n",
       " 'By Frank Kane',\n",
       " '',\n",
       " '',\n",
       " '',\n",
       " 'Copyright © 2015 Frank Kane. ',\n",
       " 'All rights reserved worldwide.',\n",
       " '',\n",
       " '']"
      ]
     },
     "execution_count": 25,
     "metadata": {},
     "output_type": "execute_result"
    }
   ],
   "source": [
    "book.count() #count how many lines there are\n",
    "book.collect()[:10] # Print the first 10 lines"
   ]
  },
  {
   "cell_type": "code",
   "execution_count": 34,
   "metadata": {
    "collapsed": false
   },
   "outputs": [],
   "source": [
    "# If we use map function it'll be a 2-dimensional array\n",
    "words = book.map(lambda line: line.split(' '))"
   ]
  },
  {
   "cell_type": "code",
   "execution_count": 30,
   "metadata": {
    "collapsed": false
   },
   "outputs": [
    {
     "data": {
      "text/plain": [
       "[['Self-Employment:', 'Building', 'an', 'Internet', 'Business', 'of', 'One'],\n",
       " ['Achieving',\n",
       "  'Financial',\n",
       "  'and',\n",
       "  'Personal',\n",
       "  'Freedom',\n",
       "  'through',\n",
       "  'a',\n",
       "  'Lifestyle',\n",
       "  'Technology',\n",
       "  'Business'],\n",
       " ['By', 'Frank', 'Kane'],\n",
       " [''],\n",
       " ['']]"
      ]
     },
     "execution_count": 30,
     "metadata": {},
     "output_type": "execute_result"
    }
   ],
   "source": [
    "words.collect()[:5]"
   ]
  },
  {
   "cell_type": "code",
   "execution_count": 52,
   "metadata": {
    "collapsed": false
   },
   "outputs": [],
   "source": [
    "# we should use flatmap\n",
    "wordsFlat = book.flatMap(lambda line: line.split(' '))"
   ]
  },
  {
   "cell_type": "code",
   "execution_count": 55,
   "metadata": {
    "collapsed": false
   },
   "outputs": [
    {
     "data": {
      "text/plain": [
       "['Self-Employment:',\n",
       " 'Building',\n",
       " 'an',\n",
       " 'Internet',\n",
       " 'Business',\n",
       " 'of',\n",
       " 'One',\n",
       " 'Achieving',\n",
       " 'Financial',\n",
       " 'and',\n",
       " 'Personal',\n",
       " 'Freedom',\n",
       " 'through',\n",
       " 'a',\n",
       " 'Lifestyle',\n",
       " 'Technology',\n",
       " 'Business',\n",
       " 'By',\n",
       " 'Frank',\n",
       " 'Kane']"
      ]
     },
     "execution_count": 55,
     "metadata": {},
     "output_type": "execute_result"
    }
   ],
   "source": [
    "wordsFlat.collect()[:20]\n",
    "# This function will produce a 1-dimensional array"
   ]
  },
  {
   "cell_type": "code",
   "execution_count": 56,
   "metadata": {
    "collapsed": false
   },
   "outputs": [],
   "source": [
    "# normalize words to lowercase()\n",
    "lowerCaseWords = wordsFlat.map(lambda x: x.lower())\n",
    "#(200 * exp(-t)) if t > 200 else (400 * exp(-t))"
   ]
  },
  {
   "cell_type": "code",
   "execution_count": 58,
   "metadata": {
    "collapsed": false
   },
   "outputs": [
    {
     "data": {
      "text/plain": [
       "['self-employment:',\n",
       " 'building',\n",
       " 'an',\n",
       " 'internet',\n",
       " 'business',\n",
       " 'of',\n",
       " 'one',\n",
       " 'achieving',\n",
       " 'financial',\n",
       " 'and']"
      ]
     },
     "execution_count": 58,
     "metadata": {},
     "output_type": "execute_result"
    }
   ],
   "source": [
    "lowerCaseWords.collect()[:10]"
   ]
  },
  {
   "cell_type": "code",
   "execution_count": null,
   "metadata": {
    "collapsed": true
   },
   "outputs": [],
   "source": []
  }
 ],
 "metadata": {
  "anaconda-cloud": {},
  "kernelspec": {
   "display_name": "Python [Root]",
   "language": "python",
   "name": "Python [Root]"
  },
  "language_info": {
   "codemirror_mode": {
    "name": "ipython",
    "version": 3
   },
   "file_extension": ".py",
   "mimetype": "text/x-python",
   "name": "python",
   "nbconvert_exporter": "python",
   "pygments_lexer": "ipython3",
   "version": "3.5.2"
  }
 },
 "nbformat": 4,
 "nbformat_minor": 0
}
